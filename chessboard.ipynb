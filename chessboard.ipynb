{
 "cells": [
  {
   "cell_type": "code",
   "execution_count": 16,
   "metadata": {},
   "outputs": [
    {
     "name": "stdout",
     "output_type": "stream",
     "text": [
      "',(0):>   1      0      0      0      0      0   \n",
      "   2      0      0      0      0      0      0   \n",
      "   0      0      0      0      0      0      0   \n",
      "   0      0      1      0      0      0      0   \n",
      "   0      0      0      0      0      0      0   \n",
      "   0      0      0      0      0      0      0   \n",
      "   0      0      0      0      0      0      0   \n"
     ]
    }
   ],
   "source": [
    "from carel import Carel\n",
    "from carelgrid import CarelGrid\n",
    "from gamecanvas import GameCanvas\n",
    "\n",
    "field = [[0 for x in range(7)] for y in range(7)]\n",
    "\n",
    "field[0][1] = 1\n",
    "field[1][0] = 2\n",
    "field[3][2] = 1\n",
    "\n",
    "grid = CarelGrid(field)\n",
    "canvas = GameCanvas(speed=3);\n",
    "carel = Carel(canvas, grid);\n",
    "\n",
    "def move():\n",
    "    carel.move()\n",
    "def turn_left():\n",
    "    carel.turn_left()\n",
    "def drop_beeper():\n",
    "    carel.drop_beeper()\n",
    "def collect_beeper():\n",
    "    carel.collect_beeper()\n",
    "def is_beeper():\n",
    "    return carel.is_beeper()\n",
    "def is_front_clear():\n",
    "    return carel.is_front_clear()\n",
    "def show():\n",
    "    carel.show()"
   ]
  },
  {
   "cell_type": "code",
   "execution_count": 17,
   "metadata": {},
   "outputs": [],
   "source": [
    "# New methods go here\n",
    "\n",
    "# Example\n",
    "\n",
    "def turn_around():\n",
    "    turn_left()\n",
    "    turn_left()\n",
    "    \n",
    "def turn_right():\n",
    "    turn_left()\n",
    "    turn_left()\n",
    "    turn_left()\n",
    "\n",
    "def fill_line_0():\n",
    "    while True:\n",
    "        while is_beeper():\n",
    "            collect_beeper()\n",
    "        drop_beeper()\n",
    "        if is_front_clear():\n",
    "            move()\n",
    "        else:\n",
    "            break\n",
    "        while is_beeper():\n",
    "            collect_beeper()\n",
    "        if is_front_clear():\n",
    "            move()\n",
    "        else:\n",
    "            break\n",
    "            \n",
    "def fill_line_1():\n",
    "    while True:\n",
    "        while is_beeper():\n",
    "            collect_beeper()\n",
    "        if is_front_clear():\n",
    "            move()\n",
    "        else:\n",
    "            break\n",
    "        while is_beeper():\n",
    "            collect_beeper()\n",
    "        drop_beeper()\n",
    "        if is_front_clear():\n",
    "            move()\n",
    "        else:\n",
    "            break\n",
    "    \n",
    "def fill_all():\n",
    "    fill_line_0()\n",
    "    while True:\n",
    "        if is_beeper():\n",
    "            turn_right()\n",
    "            if not is_front_clear():\n",
    "                break\n",
    "            move()\n",
    "            turn_right()\n",
    "            fill_line_1()\n",
    "        else:\n",
    "            turn_right()\n",
    "            if not is_front_clear():\n",
    "                break\n",
    "            move()\n",
    "            turn_right()\n",
    "            fill_line_0()\n",
    "        if is_beeper():\n",
    "            turn_left()\n",
    "            if not is_front_clear():\n",
    "                break\n",
    "            move()\n",
    "            turn_left()\n",
    "            fill_line_1()\n",
    "        else:\n",
    "            turn_left()\n",
    "            if not is_front_clear():\n",
    "                break\n",
    "            move()\n",
    "            turn_left()\n",
    "            fill_line_0()\n",
    "            \n"
   ]
  },
  {
   "cell_type": "code",
   "execution_count": 18,
   "metadata": {},
   "outputs": [
    {
     "name": "stdout",
     "output_type": "stream",
     "text": [
      "   1      0      1      0      1      0      1   \n",
      "   0      1      0      1      0      1      0   \n",
      "   1      0      1      0      1      0      1   \n",
      "   0      1      0      1      0      1      0   \n",
      "   1      0      1      0      1      0      1   \n",
      "   0      1      0      1      0      1      0   \n",
      "   1      0      1      0      1      0   ',(1):v\n"
     ]
    }
   ],
   "source": [
    "# Make a chessboard\n",
    "\n",
    "fill_all()"
   ]
  },
  {
   "cell_type": "code",
   "execution_count": null,
   "metadata": {},
   "outputs": [],
   "source": []
  },
  {
   "cell_type": "code",
   "execution_count": null,
   "metadata": {},
   "outputs": [],
   "source": []
  }
 ],
 "metadata": {
  "kernelspec": {
   "display_name": "Python 3",
   "language": "python",
   "name": "python3"
  },
  "language_info": {
   "codemirror_mode": {
    "name": "ipython",
    "version": 3
   },
   "file_extension": ".py",
   "mimetype": "text/x-python",
   "name": "python",
   "nbconvert_exporter": "python",
   "pygments_lexer": "ipython3",
   "version": "3.7.1"
  }
 },
 "nbformat": 4,
 "nbformat_minor": 2
}
